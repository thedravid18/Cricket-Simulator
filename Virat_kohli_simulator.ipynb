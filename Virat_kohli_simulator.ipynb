{
 "cells": [
  {
   "cell_type": "markdown",
   "metadata": {},
   "source": [
    "# Simulator for VKholi"
   ]
  },
  {
   "cell_type": "markdown",
   "metadata": {},
   "source": [
    "## Grab data of an ODI from espn cricinfo"
   ]
  },
  {
   "cell_type": "code",
   "execution_count": 138,
   "metadata": {},
   "outputs": [],
   "source": [
    "import requests\n",
    "from bs4 import BeautifulSoup\n",
    "import pandas as pd\n",
    "import re\n",
    "import numpy as np\n",
    "\n",
    "def extract_batting_data(series_id, match_id):\n",
    "\n",
    "    URL = 'https://www.espncricinfo.com/series/'+ str(series_id) + '/scorecard/' + str(match_id)\n",
    "    page = requests.get(URL)\n",
    "    bs = BeautifulSoup(page.content, \"html.parser\")\n",
    "\n",
    "    table_body=bs.find_all('tbody')\n",
    "    batsmen_df = pd.DataFrame(columns=[\"Name\",\"Desc\",\"Runs\", \"Balls\", \"4s\", \"6s\", \"SR\", \"Team\"])\n",
    "    for i, table in enumerate(table_body[0:4:2]):\n",
    "        rows = table.find_all('tr')\n",
    "        for row in rows[::2]:\n",
    "            cols=row.find_all('td')\n",
    "            cols=[x.text.strip() for x in cols]\n",
    "            if cols[0] == 'Extras':\n",
    "                continue\n",
    "            if len(cols) > 7:\n",
    "                batsmen_df = batsmen_df.append(pd.Series(\n",
    "                [re.sub(r\"\\W+\", ' ', cols[0].split(\"(c)\")[0]).strip(), cols[1], \n",
    "                cols[2], cols[3], cols[5], cols[6], cols[7], i+1], \n",
    "                index=batsmen_df.columns ), ignore_index=True)\n",
    "            else:\n",
    "                batsmen_df = batsmen_df.append(pd.Series(\n",
    "                [re.sub(r\"\\W+\", ' ', cols[0].split(\"(c)\")[0]).strip(), cols[1], \n",
    "                0, 0, 0, 0, 0, i+1], index = batsmen_df.columns), ignore_index=True)\n",
    "                \n",
    "    for i in range(2):\n",
    "        dnb_row = bs.find_all(\"tfoot\")[i].find_all(\"div\")\n",
    "        for c in dnb_row:\n",
    "            dnb_cols = c.find_all('span')\n",
    "            dnb = [x.text.strip().split(\"(c)\")[0] for x in dnb_cols]\n",
    "            dnb = filter(lambda item: item, [re.sub(r\"\\W+\", ' ', x).strip() for x in dnb])\n",
    "            for dnb_batsman in dnb:\n",
    "                batsmen_df = batsmen_df.append(pd.Series([dnb_batsman, \"DNB\", 0, 0, 0, 0, 0, i+1], index = batsmen_df.columns), ignore_index =True)\n",
    "\n",
    "    return batsmen_df\n",
    "    \n",
    "df = extract_batting_data(series_id = 19846, match_id = 1223957)"
   ]
  },
  {
   "cell_type": "markdown",
   "metadata": {},
   "source": [
    "## Finding the probabilities of runs scored such as 4s , 6s ,3s, 2s\n",
    "- Probability of 3s scored by assuming the remaning runs that are divisible by 3 are 3s\n",
    "- Scores of 1 and 2 were compounded together as 1s and 2s \n",
    "- Score for 1s and 2s are assumed as the remaining scores after 3s , 4s , 6s have been calculated."
   ]
  },
  {
   "cell_type": "code",
   "execution_count": 139,
   "metadata": {},
   "outputs": [
    {
     "data": {
      "text/html": [
       "<div>\n",
       "<style scoped>\n",
       "    .dataframe tbody tr th:only-of-type {\n",
       "        vertical-align: middle;\n",
       "    }\n",
       "\n",
       "    .dataframe tbody tr th {\n",
       "        vertical-align: top;\n",
       "    }\n",
       "\n",
       "    .dataframe thead th {\n",
       "        text-align: right;\n",
       "    }\n",
       "</style>\n",
       "<table border=\"1\" class=\"dataframe\">\n",
       "  <thead>\n",
       "    <tr style=\"text-align: right;\">\n",
       "      <th></th>\n",
       "      <th>Name</th>\n",
       "      <th>Desc</th>\n",
       "      <th>Runs</th>\n",
       "      <th>Balls</th>\n",
       "      <th>4s</th>\n",
       "      <th>6s</th>\n",
       "      <th>SR</th>\n",
       "      <th>Team</th>\n",
       "    </tr>\n",
       "  </thead>\n",
       "  <tbody>\n",
       "    <tr>\n",
       "      <th>0</th>\n",
       "      <td>S Dhawan</td>\n",
       "      <td>c Agar b Abbott</td>\n",
       "      <td>16</td>\n",
       "      <td>27</td>\n",
       "      <td>2</td>\n",
       "      <td>0</td>\n",
       "      <td>59.25</td>\n",
       "      <td>1</td>\n",
       "    </tr>\n",
       "    <tr>\n",
       "      <th>1</th>\n",
       "      <td>Shubman Gill</td>\n",
       "      <td>lbw b Agar</td>\n",
       "      <td>33</td>\n",
       "      <td>39</td>\n",
       "      <td>3</td>\n",
       "      <td>1</td>\n",
       "      <td>84.61</td>\n",
       "      <td>1</td>\n",
       "    </tr>\n",
       "    <tr>\n",
       "      <th>2</th>\n",
       "      <td>V Kohli</td>\n",
       "      <td>c †Carey b Hazlewood</td>\n",
       "      <td>63</td>\n",
       "      <td>78</td>\n",
       "      <td>5</td>\n",
       "      <td>1</td>\n",
       "      <td>80.76</td>\n",
       "      <td>1</td>\n",
       "    </tr>\n",
       "    <tr>\n",
       "      <th>3</th>\n",
       "      <td>SS Iyer</td>\n",
       "      <td>c Labuschagne b Zampa</td>\n",
       "      <td>19</td>\n",
       "      <td>21</td>\n",
       "      <td>2</td>\n",
       "      <td>0</td>\n",
       "      <td>90.47</td>\n",
       "      <td>1</td>\n",
       "    </tr>\n",
       "    <tr>\n",
       "      <th>4</th>\n",
       "      <td>KL Rahul</td>\n",
       "      <td>lbw b Agar</td>\n",
       "      <td>5</td>\n",
       "      <td>11</td>\n",
       "      <td>0</td>\n",
       "      <td>0</td>\n",
       "      <td>45.45</td>\n",
       "      <td>1</td>\n",
       "    </tr>\n",
       "  </tbody>\n",
       "</table>\n",
       "</div>"
      ],
      "text/plain": [
       "           Name                   Desc Runs Balls 4s 6s     SR Team\n",
       "0      S Dhawan        c Agar b Abbott   16    27  2  0  59.25    1\n",
       "1  Shubman Gill             lbw b Agar   33    39  3  1  84.61    1\n",
       "2       V Kohli   c †Carey b Hazlewood   63    78  5  1  80.76    1\n",
       "3       SS Iyer  c Labuschagne b Zampa   19    21  2  0  90.47    1\n",
       "4      KL Rahul             lbw b Agar    5    11  0  0  45.45    1"
      ]
     },
     "execution_count": 139,
     "metadata": {},
     "output_type": "execute_result"
    }
   ],
   "source": [
    "df.loc[df['Name'] == 'V Kohli','6s'] = 1\n",
    "df.head()"
   ]
  },
  {
   "cell_type": "code",
   "execution_count": 140,
   "metadata": {},
   "outputs": [],
   "source": [
    "df['p_4s'] = df['4s'].astype(int)/ df['Balls'].astype(int)\n",
    "df['p_6s'] = df['6s'].astype(int)/ df['Balls'].astype(int)\n",
    "\n",
    "df['n_3s'] = (df['Runs'].astype(int) - (df['4s'].astype(int)*4 + df['6s'].astype(int)*6)) //3\n",
    "df['p_3s'] = df['n_3s'].astype(int)/df['Balls'].astype(int)\n",
    "\n",
    "df['n_1s_2s'] =df['Runs'].astype(int)-( df['4s'].astype(int)*4 + df['6s'].astype(int)*6 + df['n_3s'].astype(int)*3)\n",
    "df['2s'] = df['n_1s_2s'].astype(int)/df['Balls'].astype(int)"
   ]
  },
  {
   "cell_type": "code",
   "execution_count": 141,
   "metadata": {},
   "outputs": [],
   "source": [
    "df = df[df['Name'] == 'V Kohli']"
   ]
  },
  {
   "cell_type": "markdown",
   "metadata": {},
   "source": [
    "Manipulated the data to add a six total , since kolhi did not hit any six this particular match"
   ]
  },
  {
   "cell_type": "markdown",
   "metadata": {},
   "source": [
    "## Conditional probability (when u > v)\n",
    "\n",
    "- Since I have taken only one line of data , I have calculated conditional probabilities prior \n",
    "- Example \n",
    "    - P( scoring 1s and 2s / 3s,4s,6s ) = p(scoring 1s and 2s , 3s , 4s , 6s ) / p(scoring 3s,4s,6s) = 8.660090095472535e-09"
   ]
  },
  {
   "cell_type": "code",
   "execution_count": 142,
   "metadata": {},
   "outputs": [],
   "source": [
    "p_2s = 0.012821 # These values were calculated from the table \n",
    "p_3s = 0.179487\n",
    "p_4s = 0.064103\n",
    "p_6s = 0.012821\n",
    "p_all = P_1sand2s*p_3s*p_4s*p_6s #P(AnBnCnD)"
   ]
  },
  {
   "cell_type": "code",
   "execution_count": 143,
   "metadata": {},
   "outputs": [
    {
     "data": {
      "text/plain": [
       "[8.660090095472535e-09,\n",
       " 1.6972452708675887e-06,\n",
       " 1.2123653310709608e-07,\n",
       " 3.39459644911991e-07]"
      ]
     },
     "execution_count": 143,
     "metadata": {},
     "output_type": "execute_result"
    }
   ],
   "source": [
    "def bayes(c1,c2,c3): # Simple function to calculate the Conditional probabilities\n",
    "    p = p_all / c1*c2*c3\n",
    "    return p\n",
    "X= [bayes(p_3s,p_4s,p_6s), #P(1s and 2s / 4s,6s,3s)\n",
    "bayes(p_1sand2s,p_3s,p_4s), #P(6s / 1s and 2s,6s,3s)\n",
    "bayes(p_1sand2s,p_4s,p_6s), #P(3s / 1s and 2s , 4s,6s)\n",
    "bayes(p_1sand2s,p_3s,p_6s)] #P(4s /1s and 2s , 3s,6s)\n",
    "X"
   ]
  },
  {
   "cell_type": "code",
   "execution_count": 156,
   "metadata": {},
   "outputs": [],
   "source": [
    "# Since there wasn't any data for calculating # wides , It was assumed \n",
    "v  = 0.1  #probability of wide or no ball = # wide balls to a player / total balls to a player"
   ]
  },
  {
   "cell_type": "markdown",
   "metadata": {},
   "source": [
    "## Assumption for 1 runs\n",
    "\n",
    "- It was assumed that the probability of scoring 1 run is all 1 - sum of p(scoring all other kind of runs)"
   ]
  },
  {
   "cell_type": "code",
   "execution_count": 162,
   "metadata": {},
   "outputs": [],
   "source": [
    "s1 = 1- (df['2s'][2]+df['p_3s'][2]+df['p_4s'][2]+df['p_6s'][2])  # P(scoring 1 run)"
   ]
  },
  {
   "cell_type": "code",
   "execution_count": 174,
   "metadata": {},
   "outputs": [
    {
     "data": {
      "text/plain": [
       "(0.01282051282051282,\n",
       " 0.15384615384615385,\n",
       " 0.0641025641025641,\n",
       " 0.01282051282051282)"
      ]
     },
     "execution_count": 174,
     "metadata": {},
     "output_type": "execute_result"
    }
   ],
   "source": [
    "df['2s'][2],df['p_3s'][2],df['p_4s'][2],df['p_6s'][2]"
   ]
  },
  {
   "cell_type": "code",
   "execution_count": 178,
   "metadata": {},
   "outputs": [],
   "source": [
    "# for i in range(100):\n",
    "#     print(np.random.multinomial(1,[df['2s'][2],df['p_3s'][2],df['p_4s'][2],df['p_6s'][2]]))"
   ]
  },
  {
   "cell_type": "markdown",
   "metadata": {},
   "source": [
    "## Scoring Algo:\n",
    "- I used Multinomial Distribution and recorded the runs as per the paper .\n",
    "- for wickets I assumed that virat's strike rate is normally distributed with mean 60 for odis and Standard deviation of 5. \n",
    "- I assumed that virat gets out if he scored more that his average strike rate.\n",
    "- I Could apply wicket of virat kolhi based on his current matches average so far"
   ]
  },
  {
   "cell_type": "code",
   "execution_count": 221,
   "metadata": {},
   "outputs": [],
   "source": [
    "def uni(u,v,R,wickets):\n",
    "    if u < v : # signals wide or no ball\n",
    "        y = np.random.multinomial(1,[df['2s'][2],df['p_3s'][2],df['p_4s'][2],df['p_6s'][2]])\n",
    "        R += 1 + s1 +2*y[0]+3*y[1]+4*y[2]+6*y[3]\n",
    "    else:\n",
    "        R += s1 +2*X[0] + 3*X[2] + 4*X[3] + 6*X[1]\n",
    "    return R"
   ]
  },
  {
   "cell_type": "code",
   "execution_count": 280,
   "metadata": {},
   "outputs": [
    {
     "name": "stdout",
     "output_type": "stream",
     "text": [
      "Ball  1  : 0\n",
      "Ball  2  : 5\n",
      "Ball  3  : 6\n",
      "Ball  4  : 7\n",
      "Ball  5  : 7\n",
      "Ball  6  : 8\n",
      "Ball  7  : 16\n",
      "Ball  8  : 17\n",
      "Ball  9  : 17\n",
      "Ball  10  : 18\n",
      "Ball  11  : 19\n",
      "Ball  12  : 20\n",
      "Ball  13  : 20\n",
      "Ball  14  : 21\n",
      "Ball  15  : 22\n",
      "Ball  16  : 23\n",
      "Ball  17  : 23\n",
      "Ball  18  : 31\n",
      "Ball  19  : 32\n",
      "Ball  20  : 33\n",
      "Ball  21  : 33\n",
      "Ball  22  : 34\n",
      "Ball  23  : 35\n",
      "Ball  24  : 36\n",
      "Ball  25  : 36\n",
      "Ball  26  : 41\n",
      "Ball  27  : 42\n",
      "Ball  28  : 43\n",
      "Ball  29  : 43\n",
      "Ball  30  : 44\n",
      "Ball  31  : 45\n",
      "Ball  32  : 46\n",
      "Ball  33  : 46\n",
      "Ball  34  : 47\n",
      "Ball  35  : 48\n",
      "Ball  36  : 49\n",
      "Ball  37  : 49\n",
      "Ball  38  : 50\n",
      "Ball  39  : 51\n",
      "Ball  40  : 52\n",
      "Ball  41  : 58\n",
      "Ball  42  : 58\n",
      "Ball  43  : 59\n",
      "Ball  44  : 60\n",
      "Ball  45  : 61\n",
      "Ball  46  : 61\n",
      "Ball  47  : 62\n",
      "Ball  48  : 63\n",
      "Ball  49  : 64\n",
      "Ball  50  : 64\n",
      "Ball  51  : 65\n",
      "Ball  52  : 66\n",
      "Ball  53  : 67\n",
      "Ball  54  : 67\n",
      "Ball  55  : 68\n",
      "Ball  56  : 69\n",
      "Ball  57  : 70\n",
      "Ball  58  : 70\n",
      "Ball  59  : 71\n",
      "Ball  60  : 72\n",
      "Ball  61  : 73\n",
      "Ball  62  : 80\n",
      "Ball  63  : 81\n",
      "Ball  64  : 82\n",
      "Ball  65  : 83\n",
      "Ball  66  : 83\n",
      "Ball  67  : 84\n",
      "Ball  68  : 85\n",
      "Ball  69  : 86\n",
      "Ball  70  : 86\n",
      "Ball  71  : 87\n",
      "Ball  72  : 88\n",
      "Ball  73  : 89\n",
      "Ball  74  : 89\n",
      "Ball  75  : 90\n",
      "Ball  76  : 91\n",
      "Ball  77  : 92\n",
      "Ball  78  : 93\n",
      "Ball  79  : 93\n",
      "Ball  80  : 94\n",
      "Ball  81  : 95\n",
      "Ball  82  : 96\n",
      "Ball  83  : 96\n",
      "Ball  84  : 97\n",
      "Ball  85  : 98\n",
      "Ball  86  : 99\n",
      "Ball  87  : 99\n",
      "Virat Kohli out for : 99\n",
      "Score : 99 , wickets : 1\n"
     ]
    }
   ],
   "source": [
    "wickets = 0\n",
    "R = 0\n",
    "runs = 0 \n",
    "avg = [] # for strike rate\n",
    "n = 150 # number of balls\n",
    "sr = 1000 # assumed value \n",
    "for i in range(n):\n",
    "    if i == np.random.randint(0,n) : # Random number between 0 to n\n",
    "        mean = sum(avg)/i\n",
    "        sr = np.random.normal(mean,5) # Strike rate for this match \n",
    "    if wickets == 10:\n",
    "        xb = 0\n",
    "    else:\n",
    "        u = np.random.uniform(0,1) \n",
    "        runs += uni(u,v,R,wickets) \n",
    "        avg.append(runs)\n",
    "    print('Ball ',i+1,' :',int(runs))\n",
    "    if runs > sr: #Wickets are based on his strike rate\n",
    "        wickets += 1\n",
    "        print('Virat Kohli out for :', int(runs))\n",
    "        print('Score :', int(runs) , ', wickets :' , 1)\n",
    "        break\n",
    "else:\n",
    "    print('Score by Kohli :', int(runs), '*', 'from ',n,'balls')\n",
    "# print(u)"
   ]
  },
  {
   "cell_type": "code",
   "execution_count": null,
   "metadata": {},
   "outputs": [],
   "source": []
  }
 ],
 "metadata": {
  "kernelspec": {
   "display_name": "Python 3",
   "language": "python",
   "name": "python3"
  },
  "language_info": {
   "codemirror_mode": {
    "name": "ipython",
    "version": 3
   },
   "file_extension": ".py",
   "mimetype": "text/x-python",
   "name": "python",
   "nbconvert_exporter": "python",
   "pygments_lexer": "ipython3",
   "version": "3.8.5"
  }
 },
 "nbformat": 4,
 "nbformat_minor": 4
}
